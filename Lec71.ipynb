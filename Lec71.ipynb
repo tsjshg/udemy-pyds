{
 "cells": [
  {
   "cell_type": "markdown",
   "metadata": {},
   "source": [
    "# 機械学習入門"
   ]
  },
  {
   "cell_type": "markdown",
   "metadata": {},
   "source": [
    "このセクションは、[SciKit Learn](http://scikit-learn.org/stable/) を使った実践的な機械学習の入門コースです。\n",
    "\n",
    "インストールが済んでいない場合は、以下のいずれかの方法でインストールしておいてください。\n",
    "\n",
    "pip install scikit-learn\n",
    "\n",
    "conda install scikit-learn"
   ]
  },
  {
   "cell_type": "markdown",
   "metadata": {},
   "source": [
    "### このコースで学べること\n",
    "\n",
    "機械学習アルゴリズムには、数学的な背景があります。各レクチャーは、できるだけ分かり易くこの背景を説明したあと、実際にPythonのコードを実行する流れになります。\n",
    "\n",
    "機械学習に関する話題は広いので、すべてを網羅することは出来ませんが、レクチャーを終えれば、いろいろな方法論についての知識が付きます。"
   ]
  },
  {
   "cell_type": "markdown",
   "metadata": {},
   "source": [
    "### 機械学習に関する資料\n",
    "\n",
    "1. SciKit Learnのドキュメント\n",
    "    - ライブラリの使い方だけではなく、機械学習アルゴリズムについて詳しく学べます\n",
    "   \n",
    "1. 英語になってしまいますが、Andrew Ng先生の講義は有名です\n",
    "    - [Coursera Video](https://www.coursera.org/learn/machine-learning)\n",
    "    - Pythonやscikit learnは使っていませんが、数学的な背景についてはよい入門になっています。\n",
    "    \n",
    "1. もしよかったら拙著もどうぞ\n",
    "    - [実践Ｄａｔａ　Ｓｃｉｅｎｃｅシリーズ　ゼロからはじめるデータサイエンス入門　Ｒ・Ｐｙｔｈｏｎ一挙両得](https://bookclub.kodansha.co.jp/product?item=0000275788)"
   ]
  }
 ],
 "metadata": {
  "kernelspec": {
   "display_name": "Python 3 (ipykernel)",
   "language": "python",
   "name": "python3"
  },
  "language_info": {
   "codemirror_mode": {
    "name": "ipython",
    "version": 3
   },
   "file_extension": ".py",
   "mimetype": "text/x-python",
   "name": "python",
   "nbconvert_exporter": "python",
   "pygments_lexer": "ipython3",
   "version": "3.11.3"
  }
 },
 "nbformat": 4,
 "nbformat_minor": 4
}
