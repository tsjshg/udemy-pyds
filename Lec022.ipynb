{
 "cells": [
  {
   "cell_type": "code",
   "execution_count": null,
   "metadata": {
    "tags": []
   },
   "outputs": [],
   "source": [
    "import numpy as np\n",
    "from pandas import Series, DataFrame\n",
    "import pandas as pd"
   ]
  },
  {
   "cell_type": "code",
   "execution_count": 25,
   "metadata": {
    "tags": []
   },
   "outputs": [
    {
     "data": {
      "text/html": [
       "<div>\n",
       "<style scoped>\n",
       "    .dataframe tbody tr th:only-of-type {\n",
       "        vertical-align: middle;\n",
       "    }\n",
       "\n",
       "    .dataframe tbody tr th {\n",
       "        vertical-align: top;\n",
       "    }\n",
       "\n",
       "    .dataframe thead th {\n",
       "        text-align: right;\n",
       "    }\n",
       "</style>\n",
       "<table border=\"1\" class=\"dataframe\">\n",
       "  <thead>\n",
       "    <tr style=\"text-align: right;\">\n",
       "      <th></th>\n",
       "      <th>One</th>\n",
       "      <th>Two</th>\n",
       "      <th>Three</th>\n",
       "    </tr>\n",
       "  </thead>\n",
       "  <tbody>\n",
       "    <tr>\n",
       "      <th>A</th>\n",
       "      <td>1.0</td>\n",
       "      <td>2.0</td>\n",
       "      <td>NaN</td>\n",
       "    </tr>\n",
       "    <tr>\n",
       "      <th>B</th>\n",
       "      <td>NaN</td>\n",
       "      <td>3.0</td>\n",
       "      <td>4.0</td>\n",
       "    </tr>\n",
       "  </tbody>\n",
       "</table>\n",
       "</div>"
      ],
      "text/plain": [
       "   One  Two  Three\n",
       "A  1.0  2.0    NaN\n",
       "B  NaN  3.0    4.0"
      ]
     },
     "execution_count": 25,
     "metadata": {},
     "output_type": "execute_result"
    }
   ],
   "source": [
    "arr = np.array([[1, 2, np.nan], [np.nan, 3, 4]])\n",
    "dframe1 = DataFrame(arr,\n",
    "                    index=['A', 'B'],\n",
    "                    columns = ['One', 'Two', 'Three'])\n",
    "dframe1"
   ]
  },
  {
   "cell_type": "code",
   "execution_count": 26,
   "metadata": {
    "tags": []
   },
   "outputs": [
    {
     "data": {
      "text/plain": [
       "One      1.0\n",
       "Two      5.0\n",
       "Three    4.0\n",
       "dtype: float64"
      ]
     },
     "execution_count": 26,
     "metadata": {},
     "output_type": "execute_result"
    }
   ],
   "source": [
    "# 合計を求めるsumの動きを確認しましょう。\n",
    "# 行方向に計算が進むので、列の合計が見られます。\n",
    "\n",
    "dframe1.sum()"
   ]
  },
  {
   "cell_type": "code",
   "execution_count": 27,
   "metadata": {
    "tags": []
   },
   "outputs": [
    {
     "data": {
      "text/plain": [
       "A    3.0\n",
       "B    7.0\n",
       "dtype: float64"
      ]
     },
     "execution_count": 27,
     "metadata": {},
     "output_type": "execute_result"
    }
   ],
   "source": [
    "# 行の合計を求めたいときは、列方向（axis=1）で計算\n",
    "\n",
    "dframe1.sum(axis=1)"
   ]
  },
  {
   "cell_type": "code",
   "execution_count": 28,
   "metadata": {
    "tags": []
   },
   "outputs": [
    {
     "data": {
      "text/plain": [
       "One      1.0\n",
       "Two      2.0\n",
       "Three    4.0\n",
       "dtype: float64"
      ]
     },
     "execution_count": 28,
     "metadata": {},
     "output_type": "execute_result"
    }
   ],
   "source": [
    "# 最小値を求める。\n",
    "\n",
    "dframe1.min()"
   ]
  },
  {
   "cell_type": "code",
   "execution_count": 29,
   "metadata": {
    "tags": []
   },
   "outputs": [
    {
     "data": {
      "text/plain": [
       "One      A\n",
       "Two      A\n",
       "Three    B\n",
       "dtype: object"
      ]
     },
     "execution_count": 29,
     "metadata": {},
     "output_type": "execute_result"
    }
   ],
   "source": [
    "# 最小値を保持しているindexを調べられます。\n",
    "\n",
    "dframe1.idxmin()"
   ]
  },
  {
   "cell_type": "code",
   "execution_count": null,
   "metadata": {
    "tags": []
   },
   "outputs": [],
   "source": [
    "# maxでも同じことができます。"
   ]
  },
  {
   "cell_type": "code",
   "execution_count": 30,
   "metadata": {
    "tags": []
   },
   "outputs": [
    {
     "data": {
      "text/html": [
       "<div>\n",
       "<style scoped>\n",
       "    .dataframe tbody tr th:only-of-type {\n",
       "        vertical-align: middle;\n",
       "    }\n",
       "\n",
       "    .dataframe tbody tr th {\n",
       "        vertical-align: top;\n",
       "    }\n",
       "\n",
       "    .dataframe thead th {\n",
       "        text-align: right;\n",
       "    }\n",
       "</style>\n",
       "<table border=\"1\" class=\"dataframe\">\n",
       "  <thead>\n",
       "    <tr style=\"text-align: right;\">\n",
       "      <th></th>\n",
       "      <th>One</th>\n",
       "      <th>Two</th>\n",
       "      <th>Three</th>\n",
       "    </tr>\n",
       "  </thead>\n",
       "  <tbody>\n",
       "    <tr>\n",
       "      <th>A</th>\n",
       "      <td>1.0</td>\n",
       "      <td>2.0</td>\n",
       "      <td>NaN</td>\n",
       "    </tr>\n",
       "    <tr>\n",
       "      <th>B</th>\n",
       "      <td>NaN</td>\n",
       "      <td>3.0</td>\n",
       "      <td>4.0</td>\n",
       "    </tr>\n",
       "  </tbody>\n",
       "</table>\n",
       "</div>"
      ],
      "text/plain": [
       "   One  Two  Three\n",
       "A  1.0  2.0    NaN\n",
       "B  NaN  3.0    4.0"
      ]
     },
     "execution_count": 30,
     "metadata": {},
     "output_type": "execute_result"
    }
   ],
   "source": [
    "dframe1"
   ]
  },
  {
   "cell_type": "code",
   "execution_count": 31,
   "metadata": {
    "tags": []
   },
   "outputs": [
    {
     "data": {
      "text/html": [
       "<div>\n",
       "<style scoped>\n",
       "    .dataframe tbody tr th:only-of-type {\n",
       "        vertical-align: middle;\n",
       "    }\n",
       "\n",
       "    .dataframe tbody tr th {\n",
       "        vertical-align: top;\n",
       "    }\n",
       "\n",
       "    .dataframe thead th {\n",
       "        text-align: right;\n",
       "    }\n",
       "</style>\n",
       "<table border=\"1\" class=\"dataframe\">\n",
       "  <thead>\n",
       "    <tr style=\"text-align: right;\">\n",
       "      <th></th>\n",
       "      <th>One</th>\n",
       "      <th>Two</th>\n",
       "      <th>Three</th>\n",
       "    </tr>\n",
       "  </thead>\n",
       "  <tbody>\n",
       "    <tr>\n",
       "      <th>A</th>\n",
       "      <td>1.0</td>\n",
       "      <td>2.0</td>\n",
       "      <td>NaN</td>\n",
       "    </tr>\n",
       "    <tr>\n",
       "      <th>B</th>\n",
       "      <td>NaN</td>\n",
       "      <td>5.0</td>\n",
       "      <td>4.0</td>\n",
       "    </tr>\n",
       "  </tbody>\n",
       "</table>\n",
       "</div>"
      ],
      "text/plain": [
       "   One  Two  Three\n",
       "A  1.0  2.0    NaN\n",
       "B  NaN  5.0    4.0"
      ]
     },
     "execution_count": 31,
     "metadata": {},
     "output_type": "execute_result"
    }
   ],
   "source": [
    "# 累積を求めることができます。\n",
    "\n",
    "dframe1.cumsum()"
   ]
  },
  {
   "cell_type": "code",
   "execution_count": 32,
   "metadata": {
    "tags": []
   },
   "outputs": [
    {
     "data": {
      "text/html": [
       "<div>\n",
       "<style scoped>\n",
       "    .dataframe tbody tr th:only-of-type {\n",
       "        vertical-align: middle;\n",
       "    }\n",
       "\n",
       "    .dataframe tbody tr th {\n",
       "        vertical-align: top;\n",
       "    }\n",
       "\n",
       "    .dataframe thead th {\n",
       "        text-align: right;\n",
       "    }\n",
       "</style>\n",
       "<table border=\"1\" class=\"dataframe\">\n",
       "  <thead>\n",
       "    <tr style=\"text-align: right;\">\n",
       "      <th></th>\n",
       "      <th>One</th>\n",
       "      <th>Two</th>\n",
       "      <th>Three</th>\n",
       "    </tr>\n",
       "  </thead>\n",
       "  <tbody>\n",
       "    <tr>\n",
       "      <th>count</th>\n",
       "      <td>1.0</td>\n",
       "      <td>2.000000</td>\n",
       "      <td>1.0</td>\n",
       "    </tr>\n",
       "    <tr>\n",
       "      <th>mean</th>\n",
       "      <td>1.0</td>\n",
       "      <td>2.500000</td>\n",
       "      <td>4.0</td>\n",
       "    </tr>\n",
       "    <tr>\n",
       "      <th>std</th>\n",
       "      <td>NaN</td>\n",
       "      <td>0.707107</td>\n",
       "      <td>NaN</td>\n",
       "    </tr>\n",
       "    <tr>\n",
       "      <th>min</th>\n",
       "      <td>1.0</td>\n",
       "      <td>2.000000</td>\n",
       "      <td>4.0</td>\n",
       "    </tr>\n",
       "    <tr>\n",
       "      <th>25%</th>\n",
       "      <td>1.0</td>\n",
       "      <td>2.250000</td>\n",
       "      <td>4.0</td>\n",
       "    </tr>\n",
       "    <tr>\n",
       "      <th>50%</th>\n",
       "      <td>1.0</td>\n",
       "      <td>2.500000</td>\n",
       "      <td>4.0</td>\n",
       "    </tr>\n",
       "    <tr>\n",
       "      <th>75%</th>\n",
       "      <td>1.0</td>\n",
       "      <td>2.750000</td>\n",
       "      <td>4.0</td>\n",
       "    </tr>\n",
       "    <tr>\n",
       "      <th>max</th>\n",
       "      <td>1.0</td>\n",
       "      <td>3.000000</td>\n",
       "      <td>4.0</td>\n",
       "    </tr>\n",
       "  </tbody>\n",
       "</table>\n",
       "</div>"
      ],
      "text/plain": [
       "       One       Two  Three\n",
       "count  1.0  2.000000    1.0\n",
       "mean   1.0  2.500000    4.0\n",
       "std    NaN  0.707107    NaN\n",
       "min    1.0  2.000000    4.0\n",
       "25%    1.0  2.250000    4.0\n",
       "50%    1.0  2.500000    4.0\n",
       "75%    1.0  2.750000    4.0\n",
       "max    1.0  3.000000    4.0"
      ]
     },
     "execution_count": 32,
     "metadata": {},
     "output_type": "execute_result"
    }
   ],
   "source": [
    "# DataFrameの全体像を簡単に見ることができます。\n",
    "\n",
    "dframe1.describe()"
   ]
  },
  {
   "cell_type": "code",
   "execution_count": 33,
   "metadata": {
    "scrolled": true,
    "tags": []
   },
   "outputs": [],
   "source": [
    "# 株価のデータを使います。\n",
    "# あらかじめデータを用意しておきましたので、これを読み込んで使います。\n",
    "# DataFrameをpickle形式で保存しています。\n",
    "# 石油関連会社3社の2010年1月1日から2012年12月31日までのデータです\n",
    "# CVX シェブロン、XOM エクソンモービル、BP 英BP\n",
    "\n",
    "import pickle\n",
    "\n",
    "with open('stock_price_lec22.pkl', 'br') as f:\n",
    "    CVX, XOM, BP = pickle.load(f)"
   ]
  },
  {
   "cell_type": "code",
   "execution_count": 34,
   "metadata": {
    "tags": []
   },
   "outputs": [
    {
     "data": {
      "text/html": [
       "<div>\n",
       "<style scoped>\n",
       "    .dataframe tbody tr th:only-of-type {\n",
       "        vertical-align: middle;\n",
       "    }\n",
       "\n",
       "    .dataframe tbody tr th {\n",
       "        vertical-align: top;\n",
       "    }\n",
       "\n",
       "    .dataframe thead th {\n",
       "        text-align: right;\n",
       "    }\n",
       "</style>\n",
       "<table border=\"1\" class=\"dataframe\">\n",
       "  <thead>\n",
       "    <tr style=\"text-align: right;\">\n",
       "      <th></th>\n",
       "      <th>close</th>\n",
       "      <th>high</th>\n",
       "      <th>low</th>\n",
       "      <th>open</th>\n",
       "      <th>volume</th>\n",
       "      <th>adjClose</th>\n",
       "    </tr>\n",
       "    <tr>\n",
       "      <th>date</th>\n",
       "      <th></th>\n",
       "      <th></th>\n",
       "      <th></th>\n",
       "      <th></th>\n",
       "      <th></th>\n",
       "      <th></th>\n",
       "    </tr>\n",
       "  </thead>\n",
       "  <tbody>\n",
       "    <tr>\n",
       "      <th>2010-01-04 00:00:00+00:00</th>\n",
       "      <td>79.06</td>\n",
       "      <td>79.200</td>\n",
       "      <td>78.160</td>\n",
       "      <td>78.20</td>\n",
       "      <td>10173800</td>\n",
       "      <td>46.843021</td>\n",
       "    </tr>\n",
       "    <tr>\n",
       "      <th>2010-01-05 00:00:00+00:00</th>\n",
       "      <td>79.62</td>\n",
       "      <td>79.620</td>\n",
       "      <td>78.720</td>\n",
       "      <td>79.22</td>\n",
       "      <td>10593700</td>\n",
       "      <td>47.174820</td>\n",
       "    </tr>\n",
       "    <tr>\n",
       "      <th>2010-01-06 00:00:00+00:00</th>\n",
       "      <td>79.63</td>\n",
       "      <td>80.000</td>\n",
       "      <td>79.190</td>\n",
       "      <td>79.44</td>\n",
       "      <td>11014600</td>\n",
       "      <td>47.180745</td>\n",
       "    </tr>\n",
       "    <tr>\n",
       "      <th>2010-01-07 00:00:00+00:00</th>\n",
       "      <td>79.33</td>\n",
       "      <td>79.700</td>\n",
       "      <td>78.970</td>\n",
       "      <td>79.36</td>\n",
       "      <td>9626900</td>\n",
       "      <td>47.002996</td>\n",
       "    </tr>\n",
       "    <tr>\n",
       "      <th>2010-01-08 00:00:00+00:00</th>\n",
       "      <td>79.47</td>\n",
       "      <td>79.470</td>\n",
       "      <td>78.890</td>\n",
       "      <td>79.12</td>\n",
       "      <td>5624300</td>\n",
       "      <td>47.085945</td>\n",
       "    </tr>\n",
       "    <tr>\n",
       "      <th>...</th>\n",
       "      <td>...</td>\n",
       "      <td>...</td>\n",
       "      <td>...</td>\n",
       "      <td>...</td>\n",
       "      <td>...</td>\n",
       "      <td>...</td>\n",
       "    </tr>\n",
       "    <tr>\n",
       "      <th>2012-12-24 00:00:00+00:00</th>\n",
       "      <td>108.63</td>\n",
       "      <td>109.390</td>\n",
       "      <td>108.480</td>\n",
       "      <td>109.30</td>\n",
       "      <td>2284400</td>\n",
       "      <td>71.208760</td>\n",
       "    </tr>\n",
       "    <tr>\n",
       "      <th>2012-12-26 00:00:00+00:00</th>\n",
       "      <td>108.46</td>\n",
       "      <td>109.270</td>\n",
       "      <td>108.206</td>\n",
       "      <td>109.10</td>\n",
       "      <td>4094300</td>\n",
       "      <td>71.097323</td>\n",
       "    </tr>\n",
       "    <tr>\n",
       "      <th>2012-12-27 00:00:00+00:00</th>\n",
       "      <td>108.52</td>\n",
       "      <td>108.860</td>\n",
       "      <td>107.270</td>\n",
       "      <td>108.46</td>\n",
       "      <td>5525700</td>\n",
       "      <td>71.136654</td>\n",
       "    </tr>\n",
       "    <tr>\n",
       "      <th>2012-12-28 00:00:00+00:00</th>\n",
       "      <td>106.45</td>\n",
       "      <td>107.778</td>\n",
       "      <td>106.300</td>\n",
       "      <td>107.68</td>\n",
       "      <td>5277100</td>\n",
       "      <td>69.779734</td>\n",
       "    </tr>\n",
       "    <tr>\n",
       "      <th>2012-12-31 00:00:00+00:00</th>\n",
       "      <td>108.14</td>\n",
       "      <td>108.230</td>\n",
       "      <td>105.750</td>\n",
       "      <td>105.75</td>\n",
       "      <td>6554000</td>\n",
       "      <td>70.887557</td>\n",
       "    </tr>\n",
       "  </tbody>\n",
       "</table>\n",
       "<p>754 rows × 6 columns</p>\n",
       "</div>"
      ],
      "text/plain": [
       "                            close     high      low    open    volume   \n",
       "date                                                                    \n",
       "2010-01-04 00:00:00+00:00   79.06   79.200   78.160   78.20  10173800  \\\n",
       "2010-01-05 00:00:00+00:00   79.62   79.620   78.720   79.22  10593700   \n",
       "2010-01-06 00:00:00+00:00   79.63   80.000   79.190   79.44  11014600   \n",
       "2010-01-07 00:00:00+00:00   79.33   79.700   78.970   79.36   9626900   \n",
       "2010-01-08 00:00:00+00:00   79.47   79.470   78.890   79.12   5624300   \n",
       "...                           ...      ...      ...     ...       ...   \n",
       "2012-12-24 00:00:00+00:00  108.63  109.390  108.480  109.30   2284400   \n",
       "2012-12-26 00:00:00+00:00  108.46  109.270  108.206  109.10   4094300   \n",
       "2012-12-27 00:00:00+00:00  108.52  108.860  107.270  108.46   5525700   \n",
       "2012-12-28 00:00:00+00:00  106.45  107.778  106.300  107.68   5277100   \n",
       "2012-12-31 00:00:00+00:00  108.14  108.230  105.750  105.75   6554000   \n",
       "\n",
       "                            adjClose  \n",
       "date                                  \n",
       "2010-01-04 00:00:00+00:00  46.843021  \n",
       "2010-01-05 00:00:00+00:00  47.174820  \n",
       "2010-01-06 00:00:00+00:00  47.180745  \n",
       "2010-01-07 00:00:00+00:00  47.002996  \n",
       "2010-01-08 00:00:00+00:00  47.085945  \n",
       "...                              ...  \n",
       "2012-12-24 00:00:00+00:00  71.208760  \n",
       "2012-12-26 00:00:00+00:00  71.097323  \n",
       "2012-12-27 00:00:00+00:00  71.136654  \n",
       "2012-12-28 00:00:00+00:00  69.779734  \n",
       "2012-12-31 00:00:00+00:00  70.887557  \n",
       "\n",
       "[754 rows x 6 columns]"
      ]
     },
     "execution_count": 34,
     "metadata": {},
     "output_type": "execute_result"
    }
   ],
   "source": [
    "CVX"
   ]
  },
  {
   "cell_type": "code",
   "execution_count": 35,
   "metadata": {
    "tags": []
   },
   "outputs": [
    {
     "data": {
      "text/html": [
       "<div>\n",
       "<style scoped>\n",
       "    .dataframe tbody tr th:only-of-type {\n",
       "        vertical-align: middle;\n",
       "    }\n",
       "\n",
       "    .dataframe tbody tr th {\n",
       "        vertical-align: top;\n",
       "    }\n",
       "\n",
       "    .dataframe thead th {\n",
       "        text-align: right;\n",
       "    }\n",
       "</style>\n",
       "<table border=\"1\" class=\"dataframe\">\n",
       "  <thead>\n",
       "    <tr style=\"text-align: right;\">\n",
       "      <th></th>\n",
       "      <th>CVX</th>\n",
       "      <th>XOM</th>\n",
       "      <th>BP</th>\n",
       "    </tr>\n",
       "    <tr>\n",
       "      <th>date</th>\n",
       "      <th></th>\n",
       "      <th></th>\n",
       "      <th></th>\n",
       "    </tr>\n",
       "  </thead>\n",
       "  <tbody>\n",
       "    <tr>\n",
       "      <th>2010-01-04 00:00:00+00:00</th>\n",
       "      <td>46.843021</td>\n",
       "      <td>41.611767</td>\n",
       "      <td>28.928607</td>\n",
       "    </tr>\n",
       "    <tr>\n",
       "      <th>2010-01-05 00:00:00+00:00</th>\n",
       "      <td>47.174820</td>\n",
       "      <td>41.774243</td>\n",
       "      <td>29.134018</td>\n",
       "    </tr>\n",
       "    <tr>\n",
       "      <th>2010-01-06 00:00:00+00:00</th>\n",
       "      <td>47.180745</td>\n",
       "      <td>42.135299</td>\n",
       "      <td>29.285630</td>\n",
       "    </tr>\n",
       "    <tr>\n",
       "      <th>2010-01-07 00:00:00+00:00</th>\n",
       "      <td>47.002996</td>\n",
       "      <td>42.002912</td>\n",
       "      <td>29.275848</td>\n",
       "    </tr>\n",
       "    <tr>\n",
       "      <th>2010-01-08 00:00:00+00:00</th>\n",
       "      <td>47.085945</td>\n",
       "      <td>41.834419</td>\n",
       "      <td>29.344319</td>\n",
       "    </tr>\n",
       "    <tr>\n",
       "      <th>...</th>\n",
       "      <td>...</td>\n",
       "      <td>...</td>\n",
       "      <td>...</td>\n",
       "    </tr>\n",
       "    <tr>\n",
       "      <th>2012-12-24 00:00:00+00:00</th>\n",
       "      <td>71.208760</td>\n",
       "      <td>56.426171</td>\n",
       "      <td>22.920791</td>\n",
       "    </tr>\n",
       "    <tr>\n",
       "      <th>2012-12-26 00:00:00+00:00</th>\n",
       "      <td>71.097323</td>\n",
       "      <td>56.523547</td>\n",
       "      <td>22.898815</td>\n",
       "    </tr>\n",
       "    <tr>\n",
       "      <th>2012-12-27 00:00:00+00:00</th>\n",
       "      <td>71.136654</td>\n",
       "      <td>56.387220</td>\n",
       "      <td>22.865852</td>\n",
       "    </tr>\n",
       "    <tr>\n",
       "      <th>2012-12-28 00:00:00+00:00</th>\n",
       "      <td>69.779734</td>\n",
       "      <td>55.244675</td>\n",
       "      <td>22.646093</td>\n",
       "    </tr>\n",
       "    <tr>\n",
       "      <th>2012-12-31 00:00:00+00:00</th>\n",
       "      <td>70.887557</td>\n",
       "      <td>56.185976</td>\n",
       "      <td>22.876839</td>\n",
       "    </tr>\n",
       "  </tbody>\n",
       "</table>\n",
       "<p>754 rows × 3 columns</p>\n",
       "</div>"
      ],
      "text/plain": [
       "                                 CVX        XOM         BP\n",
       "date                                                      \n",
       "2010-01-04 00:00:00+00:00  46.843021  41.611767  28.928607\n",
       "2010-01-05 00:00:00+00:00  47.174820  41.774243  29.134018\n",
       "2010-01-06 00:00:00+00:00  47.180745  42.135299  29.285630\n",
       "2010-01-07 00:00:00+00:00  47.002996  42.002912  29.275848\n",
       "2010-01-08 00:00:00+00:00  47.085945  41.834419  29.344319\n",
       "...                              ...        ...        ...\n",
       "2012-12-24 00:00:00+00:00  71.208760  56.426171  22.920791\n",
       "2012-12-26 00:00:00+00:00  71.097323  56.523547  22.898815\n",
       "2012-12-27 00:00:00+00:00  71.136654  56.387220  22.865852\n",
       "2012-12-28 00:00:00+00:00  69.779734  55.244675  22.646093\n",
       "2012-12-31 00:00:00+00:00  70.887557  56.185976  22.876839\n",
       "\n",
       "[754 rows x 3 columns]"
      ]
     },
     "execution_count": 35,
     "metadata": {},
     "output_type": "execute_result"
    }
   ],
   "source": [
    "# その日の株価を取り出して新しいDataFrameを作ります。\n",
    "\n",
    "prices = pd.DataFrame({'CVX': CVX['adjClose'],\n",
    "                       'XOM': XOM['adjClose'],\n",
    "                       'BP': BP['adjClose']})\n",
    "prices"
   ]
  },
  {
   "cell_type": "code",
   "execution_count": 36,
   "metadata": {
    "tags": []
   },
   "outputs": [],
   "source": [
    "# 変化の割合を計算できます。\n",
    "\n",
    "rets = prices.pct_change()"
   ]
  },
  {
   "cell_type": "code",
   "execution_count": 37,
   "metadata": {
    "scrolled": true,
    "tags": []
   },
   "outputs": [
    {
     "data": {
      "text/html": [
       "<div>\n",
       "<style scoped>\n",
       "    .dataframe tbody tr th:only-of-type {\n",
       "        vertical-align: middle;\n",
       "    }\n",
       "\n",
       "    .dataframe tbody tr th {\n",
       "        vertical-align: top;\n",
       "    }\n",
       "\n",
       "    .dataframe thead th {\n",
       "        text-align: right;\n",
       "    }\n",
       "</style>\n",
       "<table border=\"1\" class=\"dataframe\">\n",
       "  <thead>\n",
       "    <tr style=\"text-align: right;\">\n",
       "      <th></th>\n",
       "      <th>CVX</th>\n",
       "      <th>XOM</th>\n",
       "      <th>BP</th>\n",
       "    </tr>\n",
       "    <tr>\n",
       "      <th>date</th>\n",
       "      <th></th>\n",
       "      <th></th>\n",
       "      <th></th>\n",
       "    </tr>\n",
       "  </thead>\n",
       "  <tbody>\n",
       "    <tr>\n",
       "      <th>2010-01-04 00:00:00+00:00</th>\n",
       "      <td>NaN</td>\n",
       "      <td>NaN</td>\n",
       "      <td>NaN</td>\n",
       "    </tr>\n",
       "    <tr>\n",
       "      <th>2010-01-05 00:00:00+00:00</th>\n",
       "      <td>0.007083</td>\n",
       "      <td>0.003905</td>\n",
       "      <td>0.007101</td>\n",
       "    </tr>\n",
       "    <tr>\n",
       "      <th>2010-01-06 00:00:00+00:00</th>\n",
       "      <td>0.000126</td>\n",
       "      <td>0.008643</td>\n",
       "      <td>0.005204</td>\n",
       "    </tr>\n",
       "    <tr>\n",
       "      <th>2010-01-07 00:00:00+00:00</th>\n",
       "      <td>-0.003767</td>\n",
       "      <td>-0.003142</td>\n",
       "      <td>-0.000334</td>\n",
       "    </tr>\n",
       "    <tr>\n",
       "      <th>2010-01-08 00:00:00+00:00</th>\n",
       "      <td>0.001765</td>\n",
       "      <td>-0.004011</td>\n",
       "      <td>0.002339</td>\n",
       "    </tr>\n",
       "  </tbody>\n",
       "</table>\n",
       "</div>"
      ],
      "text/plain": [
       "                                CVX       XOM        BP\n",
       "date                                                   \n",
       "2010-01-04 00:00:00+00:00       NaN       NaN       NaN\n",
       "2010-01-05 00:00:00+00:00  0.007083  0.003905  0.007101\n",
       "2010-01-06 00:00:00+00:00  0.000126  0.008643  0.005204\n",
       "2010-01-07 00:00:00+00:00 -0.003767 -0.003142 -0.000334\n",
       "2010-01-08 00:00:00+00:00  0.001765 -0.004011  0.002339"
      ]
     },
     "execution_count": 37,
     "metadata": {},
     "output_type": "execute_result"
    }
   ],
   "source": [
    "rets.head()"
   ]
  },
  {
   "cell_type": "code",
   "execution_count": 38,
   "metadata": {
    "tags": []
   },
   "outputs": [
    {
     "data": {
      "text/plain": [
       "<Axes: xlabel='date'>"
      ]
     },
     "execution_count": 38,
     "metadata": {},
     "output_type": "execute_result"
    },
    {
     "data": {
      "image/png": "[encoded data removed]",
      "text/plain": [
       "<Figure size 640x480 with 1 Axes>"
      ]
     },
     "metadata": {},
     "output_type": "display_data"
    }
   ],
   "source": [
    "# まず、単純な株価の変化を描画してみます。\n",
    "\n",
    "prices.plot()"
   ]
  },
  {
   "cell_type": "code",
   "execution_count": 39,
   "metadata": {
    "tags": []
   },
   "outputs": [
    {
     "data": {
      "text/html": [
       "<div>\n",
       "<style scoped>\n",
       "    .dataframe tbody tr th:only-of-type {\n",
       "        vertical-align: middle;\n",
       "    }\n",
       "\n",
       "    .dataframe tbody tr th {\n",
       "        vertical-align: top;\n",
       "    }\n",
       "\n",
       "    .dataframe thead th {\n",
       "        text-align: right;\n",
       "    }\n",
       "</style>\n",
       "<table border=\"1\" class=\"dataframe\">\n",
       "  <thead>\n",
       "    <tr style=\"text-align: right;\">\n",
       "      <th></th>\n",
       "      <th>CVX</th>\n",
       "      <th>XOM</th>\n",
       "      <th>BP</th>\n",
       "    </tr>\n",
       "  </thead>\n",
       "  <tbody>\n",
       "    <tr>\n",
       "      <th>CVX</th>\n",
       "      <td>1.00000</td>\n",
       "      <td>0.852500</td>\n",
       "      <td>0.586930</td>\n",
       "    </tr>\n",
       "    <tr>\n",
       "      <th>XOM</th>\n",
       "      <td>0.85250</td>\n",
       "      <td>1.000000</td>\n",
       "      <td>0.616568</td>\n",
       "    </tr>\n",
       "    <tr>\n",
       "      <th>BP</th>\n",
       "      <td>0.58693</td>\n",
       "      <td>0.616568</td>\n",
       "      <td>1.000000</td>\n",
       "    </tr>\n",
       "  </tbody>\n",
       "</table>\n",
       "</div>"
      ],
      "text/plain": [
       "         CVX       XOM        BP\n",
       "CVX  1.00000  0.852500  0.586930\n",
       "XOM  0.85250  1.000000  0.616568\n",
       "BP   0.58693  0.616568  1.000000"
      ]
     },
     "execution_count": 39,
     "metadata": {},
     "output_type": "execute_result"
    }
   ],
   "source": [
    "rets.corr()"
   ]
  },
  {
   "cell_type": "code",
   "execution_count": 40,
   "metadata": {
    "tags": []
   },
   "outputs": [
    {
     "data": {
      "text/plain": [
       "<Axes: >"
      ]
     },
     "execution_count": 40,
     "metadata": {},
     "output_type": "execute_result"
    },
    {
     "data": {
      "image/png": "[encoded data removed]",
      "text/plain": [
       "<Figure size 640x480 with 2 Axes>"
      ]
     },
     "metadata": {},
     "output_type": "display_data"
    }
   ],
   "source": [
    "import seaborn as sns\n",
    "import matplotlib.pyplot as plt\n",
    "\n",
    "# 相関係数を計算します。\n",
    "sns.heatmap(rets.corr(), annot=True)\n",
    "\n",
    "# seabornについては、後ほど詳しく学習します。"
   ]
  },
  {
   "cell_type": "code",
   "execution_count": 41,
   "metadata": {
    "tags": []
   },
   "outputs": [
    {
     "data": {
      "text/plain": [
       "0     w\n",
       "1     w\n",
       "2     x\n",
       "3     y\n",
       "4     z\n",
       "5     w\n",
       "6     w\n",
       "7     x\n",
       "8     x\n",
       "9     y\n",
       "10    a\n",
       "11    z\n",
       "dtype: object"
      ]
     },
     "execution_count": 41,
     "metadata": {},
     "output_type": "execute_result"
    }
   ],
   "source": [
    "ser1 = Series(['w', 'w', 'x', 'y', 'z', 'w', 'w', 'x', 'x', 'y', 'a', 'z' ])\n",
    "ser1"
   ]
  },
  {
   "cell_type": "code",
   "execution_count": 42,
   "metadata": {
    "tags": []
   },
   "outputs": [
    {
     "data": {
      "text/plain": [
       "array(['w', 'x', 'y', 'z', 'a'], dtype=object)"
      ]
     },
     "execution_count": 42,
     "metadata": {},
     "output_type": "execute_result"
    }
   ],
   "source": [
    "#  重複するデータをまとめられます。\n",
    "\n",
    "ser1.unique()"
   ]
  },
  {
   "cell_type": "code",
   "execution_count": 43,
   "metadata": {
    "tags": []
   },
   "outputs": [
    {
     "data": {
      "text/plain": [
       "w    4\n",
       "x    3\n",
       "y    2\n",
       "z    2\n",
       "a    1\n",
       "Name: count, dtype: int64"
      ]
     },
     "execution_count": 43,
     "metadata": {},
     "output_type": "execute_result"
    }
   ],
   "source": [
    "# それぞれのデータがいくつあるかもわかります。\n",
    "\n",
    "ser1.value_counts()"
   ]
  },
  {
   "cell_type": "code",
   "execution_count": null,
   "metadata": {},
   "outputs": [],
   "source": []
  }
 ],
 "metadata": {
  "kernelspec": {
   "display_name": "Python 3 (ipykernel)",
   "language": "python",
   "name": "python3"
  },
  "language_info": {
   "codemirror_mode": {
    "name": "ipython",
    "version": 3
   },
   "file_extension": ".py",
   "mimetype": "text/x-python",
   "name": "python",
   "nbconvert_exporter": "python",
   "pygments_lexer": "ipython3",
   "version": "3.11.3"
  }
 },
 "nbformat": 4,
 "nbformat_minor": 4
}
