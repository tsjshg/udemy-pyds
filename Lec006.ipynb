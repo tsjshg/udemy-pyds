{
 "cells": [
  {
   "cell_type": "markdown",
   "id": "37f52672-af99-4288-8488-67fe933fa63a",
   "metadata": {},
   "source": [
    "# NumPy入門\n",
    "\n",
    "NumPyはPythonデータサイエンスを支える基本的なライブラリです。\n",
    "\n",
    "ただ、場合によってはNumPyを直接使わず、あとで説明するpandasの利用がメインになることもあります。\n",
    "\n",
    "このあたりの事情をすこし詳しく解説します。"
   ]
  }
 ],
 "metadata": {
  "kernelspec": {
   "display_name": "Python 3 (ipykernel)",
   "language": "python",
   "name": "python3"
  },
  "language_info": {
   "codemirror_mode": {
    "name": "ipython",
    "version": 3
   },
   "file_extension": ".py",
   "mimetype": "text/x-python",
   "name": "python",
   "nbconvert_exporter": "python",
   "pygments_lexer": "ipython3",
   "version": "3.11.3"
  }
 },
 "nbformat": 4,
 "nbformat_minor": 5
}
