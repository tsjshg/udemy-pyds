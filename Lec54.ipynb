{
 "cells": [
  {
   "cell_type": "markdown",
   "metadata": {},
   "source": [
    "# 実際にデータを解析してみよう！"
   ]
  },
  {
   "cell_type": "markdown",
   "metadata": {},
   "source": [
    "ここまでのレクチャーで、データ解析の基本的なスキルは身についています。\n",
    "\n",
    "実際に試してみましょう。\n",
    "\n",
    "ここからのレクチャーでは、以下の3つのデータセットを扱います。\n",
    "\n",
    "- Titanic号沈没事件\n",
    "    - [Kaggle](https://www.kaggle.com/c/titanic/)\n",
    "\n",
    "- 株価のデータ\n",
    "    - [Nasdaq](https://www.nasdaq.com/)\n",
    "\n",
    "- アメリカ大統領選挙のデータ\n",
    "    - [HUFFPOST](https://elections.huffingtonpost.com/)"
   ]
  }
 ],
 "metadata": {
  "kernelspec": {
   "display_name": "Python 3 (ipykernel)",
   "language": "python",
   "name": "python3"
  },
  "language_info": {
   "codemirror_mode": {
    "name": "ipython",
    "version": 3
   },
   "file_extension": ".py",
   "mimetype": "text/x-python",
   "name": "python",
   "nbconvert_exporter": "python",
   "pygments_lexer": "ipython3",
   "version": "3.11.3"
  }
 },
 "nbformat": 4,
 "nbformat_minor": 4
}
