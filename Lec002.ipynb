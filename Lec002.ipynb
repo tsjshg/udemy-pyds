{
 "cells": [
  {
   "cell_type": "markdown",
   "id": "5f8f38e7-7bdf-4e20-8002-6ad314b4c35a",
   "metadata": {},
   "source": [
    "# 学習を進めるために\n",
    "\n",
    "このLec2と次のセクション2（Lec3〜5）では、Pythonでデータサイエンスをはじめるための準備をします。\n",
    "\n",
    "以下の各項目に詳しい方は、該当する部分をスキップして大丈夫です。\n",
    "\n",
    "## Lec2（このレクチャー）: CUIのシェルを使ったコンピュータの操作\n",
    "\n",
    "macOSのターミナル、WindowsのPowerShellを使ったコンピュータの操作について簡単に説明します。\n",
    "\n",
    "## Lec3: インストールとセットアップ\n",
    "\n",
    "コンピュータにPythonをインストールして、JupyterLabなど必要な外部ライブラリをセットアップします。\n",
    "\n",
    "## Lec4: JupyterNotebookの使い方\n",
    "\n",
    "JupyterNotebookの基本的な使い方を紹介します。"
   ]
  },
  {
   "cell_type": "markdown",
   "id": "61fb27d6-e674-4164-a9aa-4f6dd36ab23b",
   "metadata": {},
   "source": [
    "## Lec5: 学習を進めるための資料\n",
    "\n",
    "学習を進めるたの資料は[GitHubのレポジトリ](https://github.com/tsjshg/udemy-pyds)にあります。資料の説明をしますので、このLec5は確認しておいてください。"
   ]
  },
  {
   "cell_type": "markdown",
   "id": "03e61601-5e49-447e-81c8-9c67ea7c194f",
   "metadata": {},
   "source": [
    "## CUIのシェルを使ったコンピュータの操作\n",
    "\n",
    "簡単なシェルの入門を、[こちらのページ](https://tsjshg.github.io/pysetup/cui-shell)に用意しました。"
   ]
  }
 ],
 "metadata": {
  "kernelspec": {
   "display_name": "Python 3 (ipykernel)",
   "language": "python",
   "name": "python3"
  },
  "language_info": {
   "codemirror_mode": {
    "name": "ipython",
    "version": 3
   },
   "file_extension": ".py",
   "mimetype": "text/x-python",
   "name": "python",
   "nbconvert_exporter": "python",
   "pygments_lexer": "ipython3",
   "version": "3.11.3"
  }
 },
 "nbformat": 4,
 "nbformat_minor": 5
}
