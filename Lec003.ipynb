{
 "cells": [
  {
   "cell_type": "markdown",
   "id": "d1fa6e03-48f6-4983-84a5-598d43ece017",
   "metadata": {},
   "source": [
    "## https://github.com/tsjshg/udemy-pyds"
   ]
  },
  {
   "cell_type": "markdown",
   "id": "dfa3da62-1454-473a-a036-af8161b810a2",
   "metadata": {},
   "source": [
    "# インストールとセットアップ\n",
    "\n",
    "どのようなプログラミング言語でも、インストールとセットアップは初心者にとってかなりハードルが高い作業です。それどころか、コンピュータに少し詳しい人でも、場合によってはトラブルに巻き込まれます。ただ、環境構築が自分でできるようにならないと、データサイエンスを実践するのは難しいのも事実です。OSごとにセットアップの注意点をまとめておきますので、リンク先のWebページを参考に作業を進めてみてください。"
   ]
  },
  {
   "cell_type": "markdown",
   "id": "7aa8454f-59a5-41db-a62a-be816d46eb28",
   "metadata": {},
   "source": [
    "## Pythonの配布形態\n",
    "\n",
    "大きく分けて、本家のPythonを使う方法と、Anacondaを利用する方法があります。このコースの最初のバージョンではAnacondaを推奨していましたが、Anaconda完全に無料で使えるソフトウェアでなくなってしまったこともあり、本家のPythonを利用する方法を紹介します。\n",
    "\n",
    "Pythonの配布形態に関しては、もう少し詳しい内容を[こちらのページ](https://tsjshg.github.io/pysetup/py-dist)に用意しましたので、参考にしてください。\n",
    "\n",
    "もちろん、Anacondaを使っても構いません。[こちらのページ](https://www.anaconda.com/download)からダウンロードできます。"
   ]
  },
  {
   "cell_type": "markdown",
   "id": "823bdb71-c1ae-4fa6-aae3-39171181a9c5",
   "metadata": {},
   "source": [
    "## macOSでのセットアップ方法\n",
    "\n",
    "[こちらのページ](https://tsjshg.github.io/pysetup/mac-jupyter-setup)に手順をまとめました。"
   ]
  },
  {
   "cell_type": "markdown",
   "id": "293b4825-9018-4aac-a13b-96934dc2c8b2",
   "metadata": {},
   "source": [
    "## Windowsでのセットアップ方法\n",
    "\n",
    "[こちらのページ](https://tsjshg.github.io/pysetup/win-jupyter-setup)に手順をまとめました。"
   ]
  }
 ],
 "metadata": {
  "kernelspec": {
   "display_name": "Python 3 (ipykernel)",
   "language": "python",
   "name": "python3"
  },
  "language_info": {
   "codemirror_mode": {
    "name": "ipython",
    "version": 3
   },
   "file_extension": ".py",
   "mimetype": "text/x-python",
   "name": "python",
   "nbconvert_exporter": "python",
   "pygments_lexer": "ipython3",
   "version": "3.11.3"
  }
 },
 "nbformat": 4,
 "nbformat_minor": 5
}
