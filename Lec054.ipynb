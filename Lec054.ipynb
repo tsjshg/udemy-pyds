{
 "cells": [
  {
   "cell_type": "markdown",
   "metadata": {},
   "source": [
    "# 実際にデータを解析してみよう！"
   ]
  },
  {
   "cell_type": "markdown",
   "metadata": {},
   "source": [
    "ここまでのレクチャーで、データ解析の基本的なスキルは身についています。\n",
    "\n",
    "実際に試してみましょう。\n",
    "\n",
    "ここからのレクチャーでは、以下の3つのデータセットを扱います。\n",
    "\n",
    "- Titanic号沈没事件\n",
    "    - [Kaggle](https://www.kaggle.com/c/titanic/)\n",
    "\n",
    "- 株価のデータ\n",
    "    - [Nasdaq](https://www.nasdaq.com/)\n",
    "\n",
    "- アメリカ大統領選挙のデータ\n",
    "    - [HUFFPOST](https://elections.huffingtonpost.com/)\n",
    "    \n",
    "大統領選挙の寄附のデータだけ別途ダウンロードが必要です　[こちらからElection_Donor_Data.csv](https://www.dropbox.com/s/5eoh3j9atxjo7t0/Election_Donor_Data.csv?dl=0)をダウンロードして、ノートブックがあるディレクトリと同じ場所に保存してください。"
   ]
  }
 ],
 "metadata": {
  "kernelspec": {
   "display_name": "Python 3 (ipykernel)",
   "language": "python",
   "name": "python3"
  },
  "language_info": {
   "codemirror_mode": {
    "name": "ipython",
    "version": 3
   },
   "file_extension": ".py",
   "mimetype": "text/x-python",
   "name": "python",
   "nbconvert_exporter": "python",
   "pygments_lexer": "ipython3",
   "version": "3.11.3"
  }
 },
 "nbformat": 4,
 "nbformat_minor": 4
}
