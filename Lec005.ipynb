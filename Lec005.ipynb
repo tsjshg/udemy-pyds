{
 "cells": [
  {
   "cell_type": "markdown",
   "id": "f940f6f8-c1bd-449c-9aed-445bf2429977",
   "metadata": {},
   "source": [
    "# 資料の場所\n",
    "\n",
    "以下のGitHubのレポジトリにあります。\n",
    "\n",
    "## https://github.com/tsjshg/udemy-pyds"
   ]
  },
  {
   "cell_type": "markdown",
   "id": "0e1c30f0-59e1-41da-bfdd-39d07fbf4fb1",
   "metadata": {},
   "source": [
    "## ライブラリの一括インストール\n",
    "\n",
    "Downloadして適当なディレクトリに解凍します。通常、udemy-pyds-mainというディレクトリができます。\n",
    "\n",
    "そのディレクトリへ移動し、OSのシェルから以下のコマンドを実行して必要なライブラリを1度にインストールします。\n",
    "\n",
    "`pip install -r requirements.txt`"
   ]
  },
  {
   "cell_type": "markdown",
   "id": "d269db19-53e9-4434-81a8-c87604557a1d",
   "metadata": {},
   "source": [
    "## 学習のやり方\n",
    "\n",
    "基本的には自由です。以下の順番で大変さが増しますが、全部できると上達は早いと思われます。\n",
    "1. 動画を見る\n",
    "2. Nodebookを開いてコードを実行してみる\n",
    "3. コードを少しいじってみる\n",
    "4. （もしできれば）Nodebookを見ながら自分でコードを書いてみる"
   ]
  },
  {
   "cell_type": "markdown",
   "id": "05d5895c-5e59-4b15-bc8b-bef863d84e16",
   "metadata": {},
   "source": [
    "## 今後の予定\n",
    "\n",
    "古くなったコードは、動画より先にこのGitHubのレポジトリを修正する予定です。"
   ]
  }
 ],
 "metadata": {
  "kernelspec": {
   "display_name": "Python 3 (ipykernel)",
   "language": "python",
   "name": "python3"
  },
  "language_info": {
   "codemirror_mode": {
    "name": "ipython",
    "version": 3
   },
   "file_extension": ".py",
   "mimetype": "text/x-python",
   "name": "python",
   "nbconvert_exporter": "python",
   "pygments_lexer": "ipython3",
   "version": "3.11.3"
  }
 },
 "nbformat": 4,
 "nbformat_minor": 5
}
