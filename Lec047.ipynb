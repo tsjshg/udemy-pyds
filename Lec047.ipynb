{
 "cells": [
  {
   "cell_type": "markdown",
   "metadata": {},
   "source": [
    "## Pythonでのデータの可視化\n",
    "\n",
    "- matplotlib\n",
    "    - 基本となるライブラリ\n",
    "    - pandasのplotメソッドで呼ばれる\n",
    "- seaborn\n",
    "    - matplotlibを内部で利用\n",
    "    - 少ないコードで可視化できる\n",
    "- インタラクティブな可視化\n",
    "    - [Plotly](https://plotly.com/python/)\n",
    "    - [Bokeh](https://bokeh.org/)"
   ]
  },
  {
   "cell_type": "markdown",
   "metadata": {},
   "source": [
    "seabornの公式サイト\n",
    "\n",
    "https://seaborn.pydata.org/index.html"
   ]
  },
  {
   "cell_type": "markdown",
   "metadata": {},
   "source": [
    "pipでインストールする場合\n",
    "\n",
    "`pip install seaborn`\n",
    "\n",
    "\n",
    "condaでインストールする場合\n",
    "\n",
    "`conda install -c anaconda seaborn`"
   ]
  },
  {
   "cell_type": "markdown",
   "metadata": {},
   "source": [
    "Pythonと外部ライブラリの設定については、こちらもご覧ください。\n",
    "\n",
    "https://tsjshg.github.io/pysetup/"
   ]
  }
 ],
 "metadata": {
  "kernelspec": {
   "display_name": "Python 3 (ipykernel)",
   "language": "python",
   "name": "python3"
  },
  "language_info": {
   "codemirror_mode": {
    "name": "ipython",
    "version": 3
   },
   "file_extension": ".py",
   "mimetype": "text/x-python",
   "name": "python",
   "nbconvert_exporter": "python",
   "pygments_lexer": "ipython3",
   "version": "3.11.3"
  }
 },
 "nbformat": 4,
 "nbformat_minor": 4
}
