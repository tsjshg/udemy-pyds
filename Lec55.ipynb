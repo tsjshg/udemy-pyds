{
 "cells": [
  {
   "cell_type": "markdown",
   "metadata": {},
   "source": [
    "# いろいろなデータと準備"
   ]
  },
  {
   "cell_type": "markdown",
   "metadata": {},
   "source": [
    "インターネットを通じて様々なデータセットにアクセスできます。\n",
    "\n",
    "- 日本語\n",
    "\n",
    "http://www.data.go.jp/\n",
    "\n",
    "http://linkdata.org/\n",
    "\n",
    "http://aws.amazon.com/public-data-sets/\n",
    "\n",
    "http://www.google.com/publicdata/directory\n",
    "\n",
    "- 英語\n",
    "\n",
    "http://www.data.gov/"
   ]
  },
  {
   "cell_type": "markdown",
   "metadata": {},
   "source": [
    "## 準備\n",
    "\n",
    "Kaggleからデータをダウンロードするにはアカウントの作成が必要です。\n",
    "\n",
    "https://www.kaggle.com/\n",
    "\n",
    "自分ののテーブック（ipynb形式）を公開するなら、Githubがおすすめです。\n",
    "\n",
    "https://github.com/"
   ]
  }
 ],
 "metadata": {
  "kernelspec": {
   "display_name": "Python 3 (ipykernel)",
   "language": "python",
   "name": "python3"
  },
  "language_info": {
   "codemirror_mode": {
    "name": "ipython",
    "version": 3
   },
   "file_extension": ".py",
   "mimetype": "text/x-python",
   "name": "python",
   "nbconvert_exporter": "python",
   "pygments_lexer": "ipython3",
   "version": "3.11.3"
  }
 },
 "nbformat": 4,
 "nbformat_minor": 4
}
